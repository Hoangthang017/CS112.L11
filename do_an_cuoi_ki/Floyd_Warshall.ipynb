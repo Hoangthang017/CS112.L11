{
  "nbformat": 4,
  "nbformat_minor": 0,
  "metadata": {
    "colab": {
      "name": "Floyd-Warshall_time.ipynb",
      "provenance": [],
      "collapsed_sections": [],
      "authorship_tag": "ABX9TyPWEo4z7sDcXYZeL4LLnOVu",
      "include_colab_link": true
    },
    "kernelspec": {
      "name": "python3",
      "display_name": "Python 3"
    }
  },
  "cells": [
    {
      "cell_type": "markdown",
      "metadata": {
        "id": "view-in-github",
        "colab_type": "text"
      },
      "source": [
        "<a href=\"https://colab.research.google.com/github/Hoangthang017/CS112.L11/blob/master/do_an_cuoi_ki/Floyd_Warshall.ipynb\" target=\"_parent\"><img src=\"https://colab.research.google.com/assets/colab-badge.svg\" alt=\"Open In Colab\"/></a>"
      ]
    },
    {
      "cell_type": "markdown",
      "metadata": {
        "id": "yPlRGsGmGLGv"
      },
      "source": [
        "**cài đặt thư viện networkx để tạo đồ thị**"
      ]
    },
    {
      "cell_type": "code",
      "metadata": {
        "colab": {
          "base_uri": "https://localhost:8080/"
        },
        "id": "xZy57ZjwxUK3",
        "outputId": "1c0b5d00-14d4-45cb-b0d2-d2eab31dfd30"
      },
      "source": [
        "!pip install networkx"
      ],
      "execution_count": 3,
      "outputs": [
        {
          "output_type": "stream",
          "text": [
            "Requirement already satisfied: networkx in /usr/local/lib/python3.6/dist-packages (2.5)\n",
            "Requirement already satisfied: decorator>=4.3.0 in /usr/local/lib/python3.6/dist-packages (from networkx) (4.4.2)\n"
          ],
          "name": "stdout"
        }
      ]
    },
    {
      "cell_type": "markdown",
      "metadata": {
        "id": "jkDypilDGVsk"
      },
      "source": [
        "**import các thư viện cần dùng**"
      ]
    },
    {
      "cell_type": "code",
      "metadata": {
        "id": "ETPCa7wWGZXY"
      },
      "source": [
        "import networkx, random\r\n",
        "import numpy as np\r\n",
        "import cProfile"
      ],
      "execution_count": 4,
      "outputs": []
    },
    {
      "cell_type": "markdown",
      "metadata": {
        "id": "kWLrRVt3Gf70"
      },
      "source": [
        "**hàm tạo đồ list đồ thị có hướng để chạy test**"
      ]
    },
    {
      "cell_type": "code",
      "metadata": {
        "id": "A6WxkZs1CtP7"
      },
      "source": [
        "# hàm tạo đồ thị\r\n",
        "def create_Graphs(list_Graph,start_node = 10, probabilityOfEdges = 0.3 ,numberOfGraph = 50, rangeOfCost = 100):\r\n",
        "  # số đỉnh ít nhất của một đồ thị\r\n",
        "  n = start_node\r\n",
        "\r\n",
        "  # không có cạnh giữa 2 đỉnh\r\n",
        "  M = float('inf')\r\n",
        "\r\n",
        "  # hàm tạo list numberOfGraph đồ thị\r\n",
        "  for i in range(numberOfGraph):\r\n",
        "\r\n",
        "    # mỗi lần chạy tăng 1% số đỉnh so với lần trước\r\n",
        "    n = int(n + n*0.1)\r\n",
        "\r\n",
        "    # in kiểm tra số đỉnh đang được tạo\r\n",
        "    print(n)\r\n",
        "\r\n",
        "    edges = random.random()\r\n",
        "    while (edges < probabilityOfEdges):\r\n",
        "      edges = random.random()\r\n",
        "      # print(edges)\r\n",
        "\r\n",
        "    # hàm tạo đồ thị có hướng với số cạnh được tạo ra ngẫu nhiên\r\n",
        "    G = networkx.binomial_graph(n, edges)\r\n",
        "\r\n",
        "    # chuyển từ dạng đồ thị sang dạng matrix \r\n",
        "    adjMatrix = networkx.convert_matrix.to_numpy_matrix(G)\r\n",
        "\r\n",
        "    # hàm giá trị cạnh cho đồ thị\r\n",
        "    for v in range(n):\r\n",
        "      for u in range(n):\r\n",
        "        # trùng đỉnh vẫn giữ giá trị 0\r\n",
        "        if (v == u):\r\n",
        "          pass \r\n",
        "        # có cạnh giữa 2 đỉnh gán giá trị ngẫu nhiên trong khoảng [- rangeOfCost, rangeOfCost]\r\n",
        "        elif (adjMatrix[v,u] == 1):\r\n",
        "          adjMatrix[v,u] = random.randint(1,rangeOfCost)\r\n",
        "        # không có cạnh giữa 2 đỉnh\r\n",
        "        else:\r\n",
        "          adjMatrix[v,u] = M\r\n",
        "\r\n",
        "    list_Graph.append(adjMatrix)\r\n",
        "\r\n",
        "  return list_Graph\r\n",
        "  "
      ],
      "execution_count": 19,
      "outputs": []
    },
    {
      "cell_type": "markdown",
      "metadata": {
        "id": "s6NHI9zdIPDe"
      },
      "source": [
        "**các hàm của thuật toán Floy-Warhall**"
      ]
    },
    {
      "cell_type": "code",
      "metadata": {
        "id": "bRJBf-JmXi_7"
      },
      "source": [
        "# hàm để quy để in đường dẫn từ đỉnh v -> u\r\n",
        "def printPath(path, v, u):\r\n",
        "  \r\n",
        "    if path[v,u] == v:\r\n",
        "        return\r\n",
        " \r\n",
        "    printPath(path, v, path[v,u])\r\n",
        "    print(path[v,u], end=' ')"
      ],
      "execution_count": 6,
      "outputs": []
    },
    {
      "cell_type": "code",
      "metadata": {
        "id": "3fSeikkoYNUm"
      },
      "source": [
        "# hàm in đường đi ngắn nhất giữa các cặp đỉnh\r\n",
        "def printSolution(path, N):\r\n",
        " \r\n",
        "    for v in range(N):\r\n",
        "        for u in range(N):\r\n",
        "            if u != v and path[v,u] != -1:\r\n",
        "                print(f\"Shortest Path from {v} -> {u} is ({v}\", end=' ')\r\n",
        "                printPath(path, v, u)\r\n",
        "                print(f\"{u})\")"
      ],
      "execution_count": 7,
      "outputs": []
    },
    {
      "cell_type": "code",
      "metadata": {
        "id": "_CDuzx5wYK5c"
      },
      "source": [
        "# Function to run Floyd-Warshall algorithm\r\n",
        "def floydWarshall(adjMatrix, N):\r\n",
        "\r\n",
        "  # tìm ma trận chứa chi phí di chuyển từ đỉnh v -> u và ma trận chứa đường đi từ điểm v -> u\r\n",
        "  # xét theo từng hàng ngang trong ma trận tương ứng với chi phí và đường đi từ đỉnh của hàng đang xét đến các đỉnh còn lại\r\n",
        " \r\n",
        "    # chi phí nhỏ nhất di chuyển giữa các đỉnh \r\n",
        "    cost = adjMatrix.copy()\r\n",
        "    \r\n",
        "    #  tạo ma trận đường đi rỗng có kích thước bằng kích thước ma trận ban đầu\r\n",
        "    path = np.asmatrix([[None for x in range(N)] for y in range(N)])\r\n",
        "\r\n",
        "    # tạo ma trận đường đi từ đỉnh v -> u thông qua các cạnh nối trên đồ thị\r\n",
        "    for v in range(N):\r\n",
        "        for u in range(N):\r\n",
        "            # chỉ có 1 đỉnh , gán giá trị 0\r\n",
        "            if v == u:\r\n",
        "                path[v,u] = 0\r\n",
        "            # có cạnh nối từ v -> u , gán giá trị bằng cạnh bắt đầu là v\r\n",
        "            elif (cost[v,u] != float('inf')):\r\n",
        "                path[v,u] = v\r\n",
        "            # không có cạnh nối giữa 2 đỉnh , gán giá trị -1\r\n",
        "            else:\r\n",
        "                path[v,u] = -1\r\n",
        "    # thuật toán Floyd-Warshall\r\n",
        "    # k đại diện cho đỉnh đang xét \r\n",
        "    # v, u lần lượt là cột và hàng của ma trận\r\n",
        "    # thuật toán sẽ tìm đường đi ngắn nhất của lần lượt từng đỉnh cho đến cái đỉnh còn lại\r\n",
        "    for k in range(N):\r\n",
        "        for v in range(N):\r\n",
        "            for u in range(N):\r\n",
        "                # nếu có đường đi từ v -> u đi qua đỉnh trung gian k , sao cho cost(v -> k) + cost(k -> u) nhỏ hơn so với cost(v -> u)\r\n",
        "                # hay nói cách khách đi đường v -> k -> u tốn ít chi phí hơn đi đường v -> u\r\n",
        "                # thì cập nhật lại chi phí đi từ v -> u và cập nhật lại đỉnh đi đến u\r\n",
        "                if cost[v,k] != float('inf') and cost[k,u] != float('inf') and (cost[v,k] + cost[k,u] < cost[v,u]):\r\n",
        "                    cost[v,u] = cost[v,k] + cost[k,u]\r\n",
        "                    path[v,u] = path[k,u]\r\n",
        "            # nếu phần từ đường chéo trờ thành âm, đồ thị chứa chu kì trọng số âm\r\n",
        "            if cost[v,v] < 0:\r\n",
        "                print(\"phát hiện trọng số ấm\")\r\n",
        "                return\r\n",
        "    # # in đường đi ngắn nhất giữa các cặp đỉnh\r\n",
        "    # printSolution(path, N)"
      ],
      "execution_count": 8,
      "outputs": []
    },
    {
      "cell_type": "markdown",
      "metadata": {
        "id": "bahZdMEXIssv"
      },
      "source": [
        "**hàm chính**"
      ]
    },
    {
      "cell_type": "code",
      "metadata": {
        "id": "vupX1VQfYHRS"
      },
      "source": [
        "if __name__ == '__main__':\r\n",
        "  # tạo list đồ thị\r\n",
        "  list_Graph = []\r\n",
        "  list_Graph = create_Graphs(list_Graph)\r\n",
        "\r\n",
        "  # for graph in list_Graph:\r\n",
        "  #   print(graph)\r\n",
        "  #   floydWarshall(graph,len(graph))\r\n",
        "  for graph in list_Graph:\r\n",
        "    print(len(graph))\r\n",
        "    cProfile.run('floydWarshall(graph,len(graph))')"
      ],
      "execution_count": null,
      "outputs": []
    },
    {
      "cell_type": "code",
      "metadata": {
        "id": "_J5zuO5JFY4d"
      },
      "source": [
        ""
      ],
      "execution_count": null,
      "outputs": []
    }
  ]
}