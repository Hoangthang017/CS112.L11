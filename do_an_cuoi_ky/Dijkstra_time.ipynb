{
  "nbformat": 4,
  "nbformat_minor": 0,
  "metadata": {
    "colab": {
      "name": "Dijkstra_time.ipynb",
      "provenance": [],
      "collapsed_sections": [],
      "authorship_tag": "ABX9TyOvyJfOGuQJdbvkXWjRegQj",
      "include_colab_link": true
    },
    "kernelspec": {
      "name": "python3",
      "display_name": "Python 3"
    }
  },
  "cells": [
    {
      "cell_type": "markdown",
      "metadata": {
        "id": "view-in-github",
        "colab_type": "text"
      },
      "source": [
        "<a href=\"https://colab.research.google.com/github/Hoangthang017/CS112.L11/blob/master/do_an_cuoi_ky/Dijkstra_time.ipynb\" target=\"_parent\"><img src=\"https://colab.research.google.com/assets/colab-badge.svg\" alt=\"Open In Colab\"/></a>"
      ]
    },
    {
      "cell_type": "markdown",
      "metadata": {
        "id": "yPlRGsGmGLGv"
      },
      "source": [
        "**cài đặt thư viện networkx để tạo đồ thị**"
      ]
    },
    {
      "cell_type": "code",
      "metadata": {
        "colab": {
          "base_uri": "https://localhost:8080/"
        },
        "id": "xZy57ZjwxUK3",
        "outputId": "cb5d1a39-e7e0-4cb2-d910-2d55d8a29e6b"
      },
      "source": [
        "!pip install networkx"
      ],
      "execution_count": 42,
      "outputs": [
        {
          "output_type": "stream",
          "text": [
            "Requirement already satisfied: networkx in /usr/local/lib/python3.6/dist-packages (2.5)\n",
            "Requirement already satisfied: decorator>=4.3.0 in /usr/local/lib/python3.6/dist-packages (from networkx) (4.4.2)\n"
          ],
          "name": "stdout"
        }
      ]
    },
    {
      "cell_type": "markdown",
      "metadata": {
        "id": "jkDypilDGVsk"
      },
      "source": [
        "**import các thư viện cần dùng**"
      ]
    },
    {
      "cell_type": "code",
      "metadata": {
        "id": "ETPCa7wWGZXY"
      },
      "source": [
        "import networkx, random\r\n",
        "import numpy as np\r\n",
        "import cProfile\r\n",
        "import sys"
      ],
      "execution_count": 43,
      "outputs": []
    },
    {
      "cell_type": "markdown",
      "metadata": {
        "id": "kWLrRVt3Gf70"
      },
      "source": [
        "**hàm tạo đồ list đồ thị có hướng để chạy test**"
      ]
    },
    {
      "cell_type": "code",
      "metadata": {
        "id": "A6WxkZs1CtP7"
      },
      "source": [
        "# hàm tạo đồ thị\r\n",
        "def create_Graphs(list_Graph,start_node = 10, probabilityOfEdges = 0.3 ,numberOfGraph = 50, rangeOfCost = 100):\r\n",
        "  # số đỉnh ít nhất của một đồ thị\r\n",
        "  n = start_node\r\n",
        "\r\n",
        "  # in kiểm tra số đỉnh đang được tạo\r\n",
        "  # print(n)\r\n",
        "\r\n",
        "  # không có cạnh giữa 2 đỉnh\r\n",
        "  M = float('inf')\r\n",
        "\r\n",
        "  # hàm tạo list numberOfGraph đồ thị\r\n",
        "  for i in range(numberOfGraph):\r\n",
        "\r\n",
        "    # mỗi lần chạy tăng 1% số đỉnh so với lần trước\r\n",
        "    n = int(n + n*0.1)\r\n",
        "    # n += 1\r\n",
        "\r\n",
        "    edges = random.random()\r\n",
        "    while (edges < probabilityOfEdges):\r\n",
        "      edges = random.random()\r\n",
        "      # print(edges)\r\n",
        "\r\n",
        "    # hàm tạo đồ thị có hướng với số cạnh được tạo ra ngẫu nhiên\r\n",
        "    G = networkx.binomial_graph(n, edges)\r\n",
        "\r\n",
        "    # chuyển từ dạng đồ thị sang dạng matrix \r\n",
        "    adjMatrix = networkx.convert_matrix.to_numpy_matrix(G)\r\n",
        "\r\n",
        "    # hàm giá trị cạnh cho đồ thị\r\n",
        "    for v in range(n):\r\n",
        "      for u in range(n):\r\n",
        "        # trùng đỉnh vẫn giữ giá trị 0\r\n",
        "        if (v == u):\r\n",
        "          pass \r\n",
        "        # có cạnh giữa 2 đỉnh gán giá trị ngẫu nhiên trong khoảng [- rangeOfCost, rangeOfCost]\r\n",
        "        elif (adjMatrix[v,u] == 1):\r\n",
        "          adjMatrix[v,u] = random.randint(1,rangeOfCost)\r\n",
        "        # không có cạnh giữa 2 đỉnh\r\n",
        "        else:\r\n",
        "          adjMatrix[v,u] = M\r\n",
        "\r\n",
        "    list_Graph.append(adjMatrix)\r\n",
        "\r\n",
        "  return list_Graph\r\n",
        "  "
      ],
      "execution_count": 44,
      "outputs": []
    },
    {
      "cell_type": "markdown",
      "metadata": {
        "id": "s6NHI9zdIPDe"
      },
      "source": [
        "**các hàm của thuật toán Dijkstra**"
      ]
    },
    {
      "cell_type": "code",
      "metadata": {
        "id": "fThjMlroxIDs"
      },
      "source": [
        "# hàm lấy đường đi từ đỉnh gốc\r\n",
        "def printSolution(V,S,dist):\r\n",
        "  print(\"khoảng cách từ đỉnh \",S,\" đến đỉnh: \")\r\n",
        "  for node in range(V):\r\n",
        "    if (node != S):\r\n",
        "      print(node, \":\", dist[node])"
      ],
      "execution_count": 45,
      "outputs": []
    },
    {
      "cell_type": "code",
      "metadata": {
        "id": "roWsPGrfxTSe"
      },
      "source": [
        "# thuật toán Dijkstra\r\n",
        "def dijkstra(graph, V, S):\r\n",
        "  # khởi tạo các biến\r\n",
        "  dist = [float('inf')] * V\r\n",
        "  dist[S] = 0\r\n",
        "  sptSet = [False] * V\r\n",
        "\r\n",
        "  for cout in range(V):\r\n",
        "    min = sys.maxsize\r\n",
        "    # chọn đỉnh có đường đi ngắn nhất từ đỉnh nguồm\r\n",
        "    # u luôn bằng đỉnh nguồn ở lần chạy đầu tiên\r\n",
        "    u = S;\r\n",
        "    for v in range(V):\r\n",
        "      if dist[v] < min and sptSet[v] == False:\r\n",
        "        min = dist[v]\r\n",
        "        u = v  \r\n",
        "    # cập nhật đỉnh u vào cây đường dẫn ngắn nhất\r\n",
        "    sptSet[u] = True\r\n",
        " \r\n",
        "    # chỉ cập nhật giá trị của những đỉnh liền kề với đỉnh đã chọn nếu khoảng cách hiện tại lớn hơn khoảng cách\r\n",
        "    # mới và đỉnh không nằm trong cây đường dẫn ngắn nhất\r\n",
        "    for v in range(V):\r\n",
        "      if graph[u,v] > 0 and sptSet[v] == False and dist[v] > dist[u] + graph[u,v]:\r\n",
        "        dist[v] = dist[u] + graph[u,v]\r\n",
        " \r\n",
        "  # in đường đi từ đỉnh nguồn tới các đỉnh còn lại\r\n",
        "  # printSolution(V,S,dist)\r\n",
        "  return dist"
      ],
      "execution_count": 49,
      "outputs": []
    },
    {
      "cell_type": "code",
      "metadata": {
        "id": "bz2SWMtmxmaN"
      },
      "source": [
        "# tìm tất cả cặp đường đi ngắn nhất với Dijkstra\r\n",
        "def All_pair_Dijkstra(graph):\r\n",
        "  dist = []\r\n",
        "  for v in range(len(graph)):\r\n",
        "    d = dijkstra(graph,len(graph),v)\r\n",
        "    dist.append(d)\r\n",
        "  print(\"dist\\n\",dist)"
      ],
      "execution_count": 47,
      "outputs": []
    },
    {
      "cell_type": "markdown",
      "metadata": {
        "id": "bahZdMEXIssv"
      },
      "source": [
        "**hàm chính**"
      ]
    },
    {
      "cell_type": "code",
      "metadata": {
        "id": "vupX1VQfYHRS",
        "colab": {
          "base_uri": "https://localhost:8080/"
        },
        "outputId": "81f9a368-185a-4721-fe13-c345008fceb6"
      },
      "source": [
        "if __name__ == '__main__':\r\n",
        "  # tạo list đồ thị\r\n",
        "  list_Graph = []\r\n",
        "  list_Graph = create_Graphs(list_Graph,numberOfGraph=5,start_node=4)\r\n",
        "\r\n",
        "  for graph in list_Graph:\r\n",
        "    print(\"graph\\n\",graph)\r\n",
        "    All_pair_Dijkstra(graph)\r\n",
        "    print('\\n\\n')\r\n",
        "\r\n",
        "    \r\n",
        "  # for graph in list_Graph:\r\n",
        "  #   cProfile.run('floydWarshall(graph,len(graph))')\r\n",
        "\r\n",
        "  # dataSize = []\r\n",
        "  # for graph in list_Graph:\r\n",
        "  #   dist, path = floydWarshall(graph,len(graph))\r\n",
        "  #   size = dist.__sizeof__()\r\n",
        "  #   dataSize.append(len(graph),size)"
      ],
      "execution_count": 50,
      "outputs": [
        {
          "output_type": "stream",
          "text": [
            "graph\n",
            " [[ 0. inf 39. 60.]\n",
            " [inf  0. inf inf]\n",
            " [39. inf  0. inf]\n",
            " [16. inf inf  0.]]\n",
            "dist\n",
            " [[0, inf, 39.0, 60.0], [inf, 0, inf, inf], [39.0, inf, 0, 99.0], [16.0, inf, 55.0, 0]]\n",
            "\n",
            "\n",
            "\n",
            "graph\n",
            " [[ 0. 19. 31. 57.]\n",
            " [31.  0. inf 85.]\n",
            " [ 4. inf  0. inf]\n",
            " [26. 27. inf  0.]]\n",
            "dist\n",
            " [[0, 19.0, 31.0, 57.0], [31.0, 0, 62.0, 85.0], [4.0, 23.0, 0, 61.0], [26.0, 27.0, 57.0, 0]]\n",
            "\n",
            "\n",
            "\n",
            "graph\n",
            " [[ 0. inf 89. inf]\n",
            " [inf  0. 80. 54.]\n",
            " [46. 52.  0. 89.]\n",
            " [inf 55. 67.  0.]]\n",
            "dist\n",
            " [[0, 141.0, 89.0, 178.0], [126.0, 0, 80.0, 54.0], [46.0, 52.0, 0, 89.0], [113.0, 55.0, 67.0, 0]]\n",
            "\n",
            "\n",
            "\n",
            "graph\n",
            " [[ 0. 92. inf  7.]\n",
            " [67.  0. inf inf]\n",
            " [inf inf  0. inf]\n",
            " [50. inf inf  0.]]\n",
            "dist\n",
            " [[0, 92.0, inf, 7.0], [67.0, 0, inf, 74.0], [inf, inf, 0, inf], [50.0, 142.0, inf, 0]]\n",
            "\n",
            "\n",
            "\n",
            "graph\n",
            " [[ 0.  4. 75. 99.]\n",
            " [92.  0. 65. 75.]\n",
            " [27.  8.  0. 22.]\n",
            " [47. 90. 98.  0.]]\n",
            "dist\n",
            " [[0, 4.0, 69.0, 79.0], [92.0, 0, 65.0, 75.0], [27.0, 8.0, 0, 22.0], [47.0, 51.0, 98.0, 0]]\n",
            "\n",
            "\n",
            "\n"
          ],
          "name": "stdout"
        }
      ]
    },
    {
      "cell_type": "code",
      "metadata": {
        "id": "_J5zuO5JFY4d"
      },
      "source": [
        "  "
      ],
      "execution_count": 48,
      "outputs": []
    }
  ]
}