{
  "nbformat": 4,
  "nbformat_minor": 0,
  "metadata": {
    "colab": {
      "name": "CLRS.ipynb",
      "provenance": [],
      "collapsed_sections": [
        "DidGpyXUG9CS",
        "fozJ7znrEtbx",
        "iYVVHlc0EkVL",
        "3zwCtelQEEOL",
        "oQR_lrmyDmW5",
        "7v7zmEqpELbV",
        "usiV77CU7TvG",
        "CGyLInRx7JaQ",
        "eWhXQl4VXAu4",
        "NVZ72d5kE2OW"
      ],
      "authorship_tag": "ABX9TyNp1WXCj+Qyn+48qZ35Ps0x",
      "include_colab_link": true
    },
    "kernelspec": {
      "name": "python3",
      "display_name": "Python 3"
    }
  },
  "cells": [
    {
      "cell_type": "markdown",
      "metadata": {
        "id": "view-in-github",
        "colab_type": "text"
      },
      "source": [
        "<a href=\"https://colab.research.google.com/github/Hoangthang017/CS112.L11/blob/master/CLRS.ipynb\" target=\"_parent\"><img src=\"https://colab.research.google.com/assets/colab-badge.svg\" alt=\"Open In Colab\"/></a>"
      ]
    },
    {
      "cell_type": "markdown",
      "metadata": {
        "id": "DidGpyXUG9CS",
        "colab_type": "text"
      },
      "source": [
        "#**import thư viện , Khởi tạo Time**\n"
      ]
    },
    {
      "cell_type": "code",
      "metadata": {
        "id": "5QCg81mx4WW6",
        "colab_type": "code",
        "colab": {}
      },
      "source": [
        "import math\n",
        "\n",
        "# số mssv\n",
        "a = 19529999\n",
        "\n",
        "\n",
        "Time = [60,3600,86400,2592000,31536000,3153600000]"
      ],
      "execution_count": 17,
      "outputs": []
    },
    {
      "cell_type": "code",
      "metadata": {
        "id": "EhXXs99Q2yrn",
        "colab_type": "code",
        "colab": {}
      },
      "source": [
        "def RoundUp(n):\n",
        "  print(n)\n",
        "  if (int(n) < n):\n",
        "    n = int(n) + 1\n",
        "  else:\n",
        "    n = int(n)\n",
        "\n",
        "  print(n)\n",
        "  return n"
      ],
      "execution_count": 2,
      "outputs": []
    },
    {
      "cell_type": "markdown",
      "metadata": {
        "id": "fozJ7znrEtbx",
        "colab_type": "text"
      },
      "source": [
        "#**Chưa Test log n**"
      ]
    },
    {
      "cell_type": "markdown",
      "metadata": {
        "id": "ofUt9u7X56qv",
        "colab_type": "text"
      },
      "source": [
        "##logn\n",
        "\n",
        "##**n = a = 13520603**\n",
        "lg (a) = 1\n",
        "lg (n) = 60 ?\n",
        "\n",
        "60*lg(a) = lg(n)\n",
        "n = 2^(lg(a)*60)\n",
        "n = (2^lg(a))^60\n",
        "\n",
        "\n",
        "##**n = a^60**"
      ]
    },
    {
      "cell_type": "markdown",
      "metadata": {
        "id": "0HtcLFgyGzv-",
        "colab_type": "text"
      },
      "source": [
        ""
      ]
    },
    {
      "cell_type": "code",
      "metadata": {
        "id": "5tWQyQRtDfay",
        "colab_type": "code",
        "colab": {}
      },
      "source": [
        "R = a**2592000\n",
        "print(R)"
      ],
      "execution_count": null,
      "outputs": []
    },
    {
      "cell_type": "code",
      "metadata": {
        "id": "GIb0qxj2_3OF",
        "colab_type": "code",
        "colab": {}
      },
      "source": [
        "Result = []\n",
        "for i in Time:\n",
        "  print(i)\n",
        "  R = a**i\n",
        "  R = str(R)\n",
        "  Result.append([R[:7],len(R)])"
      ],
      "execution_count": null,
      "outputs": []
    },
    {
      "cell_type": "code",
      "metadata": {
        "id": "R9dXeknE_Qu0",
        "colab_type": "code",
        "colab": {}
      },
      "source": [
        "print(Result)"
      ],
      "execution_count": null,
      "outputs": []
    },
    {
      "cell_type": "markdown",
      "metadata": {
        "id": "iYVVHlc0EkVL",
        "colab_type": "text"
      },
      "source": [
        "#**OKE sqrt(n)**"
      ]
    },
    {
      "cell_type": "markdown",
      "metadata": {
        "id": "it0efRIhBJsg",
        "colab_type": "text"
      },
      "source": [
        "##srqt(n)\n",
        "\n",
        "lg2(a) = sqrt(n)\n",
        "\n",
        "##**n = lg2(a)^2**\n",
        "\n",
        "\n",
        "sqrt(n) = 1\n",
        "\n",
        "sqrt(x) = Time\n",
        "\n",
        "Time*sqrt(n) = sqrt(x)\n",
        "\n",
        "x = (Time*sqrt(n))^2\n",
        "\n",
        "##**x = Time^2*n**"
      ]
    },
    {
      "cell_type": "code",
      "metadata": {
        "id": "C_mjJ-FCCBCz",
        "colab_type": "code",
        "colab": {
          "base_uri": "https://localhost:8080/",
          "height": 50
        },
        "outputId": "22c3fd59-3314-431e-94a1-c2899a514815"
      },
      "source": [
        "n = math.log(a,2)**2\n",
        "n = RoundUp(n)"
      ],
      "execution_count": 5,
      "outputs": [
        {
          "output_type": "stream",
          "text": [
            "586.5690935150221\n",
            "587\n"
          ],
          "name": "stdout"
        }
      ]
    },
    {
      "cell_type": "code",
      "metadata": {
        "id": "12_Tk-WN_vyW",
        "colab_type": "code",
        "colab": {
          "base_uri": "https://localhost:8080/",
          "height": 235
        },
        "outputId": "ce8c3a81-f258-471d-fd8b-66213c5b088e"
      },
      "source": [
        "Result_sqrt = []\n",
        "Result_sqrt.append(n)\n",
        "for i in Time:\n",
        "  R = (i*math.sqrt(n))**2\n",
        "  R = RoundUp(R)\n",
        "  if(R > 999999):\n",
        "    R = \"{:.5E}\".format(R)\n",
        "  Result_sqrt.append(R)\n",
        "print(Result_sqrt)"
      ],
      "execution_count": 6,
      "outputs": [
        {
          "output_type": "stream",
          "text": [
            "2113200.0\n",
            "2113200\n",
            "7607520000.000001\n",
            "7607520001\n",
            "4381931520000.0\n",
            "4381931520000\n",
            "3943738367999999.5\n",
            "3943738368000000\n",
            "5.837828267519999e+17\n",
            "583782826751999872\n",
            "5.83782826752e+21\n",
            "5837828267520000262144\n",
            "[587, '2.11320E+06', '7.60752E+09', '4.38193E+12', '3.94374E+15', '5.83783E+17', '5.83783E+21']\n"
          ],
          "name": "stdout"
        }
      ]
    },
    {
      "cell_type": "markdown",
      "metadata": {
        "id": "3zwCtelQEEOL",
        "colab_type": "text"
      },
      "source": [
        "#**OKE  n**"
      ]
    },
    {
      "cell_type": "markdown",
      "metadata": {
        "id": "oQR_lrmyDmW5",
        "colab_type": "text"
      },
      "source": [
        "##n\n",
        "\n",
        "##**n = lg(a)**\n",
        "\n",
        "n = 1\n",
        "\n",
        "R = Time\n",
        "\n",
        "R = Time*n "
      ]
    },
    {
      "cell_type": "code",
      "metadata": {
        "id": "2FBXw1ImEoKG",
        "colab_type": "code",
        "colab": {
          "base_uri": "https://localhost:8080/",
          "height": 50
        },
        "outputId": "d78df817-fbd1-40db-91e2-802207348cce"
      },
      "source": [
        "n = math.log(a,2)\n",
        "n = RoundUp(n)"
      ],
      "execution_count": 3,
      "outputs": [
        {
          "output_type": "stream",
          "text": [
            "24.219188539565526\n",
            "25\n"
          ],
          "name": "stdout"
        }
      ]
    },
    {
      "cell_type": "code",
      "metadata": {
        "id": "GaBesJXqDPZ8",
        "colab_type": "code",
        "colab": {
          "base_uri": "https://localhost:8080/",
          "height": 235
        },
        "outputId": "ef4a460a-49bb-4575-e4f2-bdaad3393e2c"
      },
      "source": [
        "Result_n = []\n",
        "Result_n.append(n)\n",
        "for i in Time:\n",
        "  R = n*i\n",
        "  R = RoundUp(R)\n",
        "  if(R > 999999):\n",
        "    R = \"{:.5E}\".format(R)\n",
        "  Result_n.append(R)\n",
        "print(Result_n)"
      ],
      "execution_count": 4,
      "outputs": [
        {
          "output_type": "stream",
          "text": [
            "1500\n",
            "1500\n",
            "90000\n",
            "90000\n",
            "2160000\n",
            "2160000\n",
            "64800000\n",
            "64800000\n",
            "788400000\n",
            "788400000\n",
            "78840000000\n",
            "78840000000\n",
            "[25, 1500, 90000, '2.16000E+06', '6.48000E+07', '7.88400E+08', '7.88400E+10']\n"
          ],
          "name": "stdout"
        }
      ]
    },
    {
      "cell_type": "markdown",
      "metadata": {
        "id": "7v7zmEqpELbV",
        "colab_type": "text"
      },
      "source": [
        "#**Chưa *Test* nlgn**"
      ]
    },
    {
      "cell_type": "markdown",
      "metadata": {
        "id": "ove9W6CcEMPJ",
        "colab_type": "text"
      },
      "source": [
        "##n*logn\n",
        "\n",
        "nlgn = lga\n",
        "n^n = a\n",
        "Find n ? \n",
        "\n",
        "n*logn = 1\n",
        "R*logR = 60\n",
        "\n",
        "R*logR = 60*n*logn\n",
        "\n",
        "log (R^R) = log (n^(60*n))\n",
        "\n",
        "R^R = (n^n)^60\n",
        "\n",
        "##**R^R = (n^n)^Time**\n",
        "\n"
      ]
    },
    {
      "cell_type": "code",
      "metadata": {
        "id": "Bd0lRdPa7cTc",
        "colab_type": "code",
        "colab": {}
      },
      "source": [
        "def FindX(n):\n",
        "  i = 1\n",
        "  while(True):\n",
        "    R = i*log(i)\n",
        "    if(R >= n):\n",
        "      return i\n",
        "    i += 1"
      ],
      "execution_count": null,
      "outputs": []
    },
    {
      "cell_type": "code",
      "metadata": {
        "id": "cPX_7wZg9kgq",
        "colab_type": "code",
        "colab": {}
      },
      "source": [
        "n9 = 9**3153600000\n",
        "print(nlgn)"
      ],
      "execution_count": null,
      "outputs": []
    },
    {
      "cell_type": "code",
      "metadata": {
        "id": "iZ8R87CWAOh8",
        "colab_type": "code",
        "colab": {
          "base_uri": "https://localhost:8080/",
          "height": 34
        },
        "outputId": "8509f5e7-d5de-4184-9ff9-a3b16198145f"
      },
      "source": [
        "c_nlogn = 3153600000*nlgn\n",
        "\n",
        "print(int(c_nlogn))"
      ],
      "execution_count": null,
      "outputs": [
        {
          "output_type": "stream",
          "text": [
            "89970079360\n"
          ],
          "name": "stdout"
        }
      ]
    },
    {
      "cell_type": "code",
      "metadata": {
        "id": "5MmMaW4YArhH",
        "colab_type": "code",
        "colab": {
          "base_uri": "https://localhost:8080/",
          "height": 162
        },
        "outputId": "a523392f-07ad-4fc0-e844-8bc23f86a5ce"
      },
      "source": [
        "_cnlgn = 2**c_nlogn "
      ],
      "execution_count": null,
      "outputs": [
        {
          "output_type": "error",
          "ename": "OverflowError",
          "evalue": "ignored",
          "traceback": [
            "\u001b[0;31m---------------------------------------------------------------------------\u001b[0m",
            "\u001b[0;31mOverflowError\u001b[0m                             Traceback (most recent call last)",
            "\u001b[0;32m<ipython-input-13-cb39468b2442>\u001b[0m in \u001b[0;36m<module>\u001b[0;34m()\u001b[0m\n\u001b[0;32m----> 1\u001b[0;31m \u001b[0m_cnlgn\u001b[0m \u001b[0;34m=\u001b[0m \u001b[0;36m2\u001b[0m\u001b[0;34m**\u001b[0m\u001b[0mc_nlogn\u001b[0m\u001b[0;34m\u001b[0m\u001b[0;34m\u001b[0m\u001b[0m\n\u001b[0m",
            "\u001b[0;31mOverflowError\u001b[0m: (34, 'Numerical result out of range')"
          ]
        }
      ]
    },
    {
      "cell_type": "code",
      "metadata": {
        "id": "Iay16_iZAjuV",
        "colab_type": "code",
        "colab": {}
      },
      "source": [
        ""
      ],
      "execution_count": null,
      "outputs": []
    },
    {
      "cell_type": "code",
      "metadata": {
        "id": "Y7LKUQIOAZP7",
        "colab_type": "code",
        "colab": {
          "base_uri": "https://localhost:8080/",
          "height": 34
        },
        "outputId": "c67116ab-a80c-43cc-945b-0479f81d5263"
      },
      "source": [
        "R = FindX(c_nlogn)\n",
        "print(R)"
      ],
      "execution_count": null,
      "outputs": [
        {
          "output_type": "stream",
          "text": [
            "11\n"
          ],
          "name": "stdout"
        }
      ]
    },
    {
      "cell_type": "code",
      "metadata": {
        "id": "ef8eG-lB-CGU",
        "colab_type": "code",
        "colab": {}
      },
      "source": [
        "a = 387420489**3153600000\n",
        "\n",
        "print(a)"
      ],
      "execution_count": null,
      "outputs": []
    },
    {
      "cell_type": "code",
      "metadata": {
        "id": "YHENBNsV8Ylj",
        "colab_type": "code",
        "colab": {
          "base_uri": "https://localhost:8080/",
          "height": 50
        },
        "outputId": "1b113cea-48e7-43aa-d30c-028f5cf22f40"
      },
      "source": [
        "n = FindX(a)\n",
        "n = RoundUp(n)"
      ],
      "execution_count": null,
      "outputs": [
        {
          "output_type": "stream",
          "text": [
            "9\n",
            "9\n"
          ],
          "name": "stdout"
        }
      ]
    },
    {
      "cell_type": "code",
      "metadata": {
        "id": "loC0Ce-U8VhD",
        "colab_type": "code",
        "colab": {
          "base_uri": "https://localhost:8080/",
          "height": 414
        },
        "outputId": "158f40de-e9f4-4c77-ae20-19e755b20d94"
      },
      "source": [
        "Result_nlgn = []\n",
        "Result_nlgn.append(n)\n",
        "nn = n**n\n",
        "for i in Time:\n",
        "  R = nn**i\n",
        "  R = FindX(R)\n",
        "  R = RoundUp(R)\n",
        "  if(R > 999999):\n",
        "    R = \"{:.5E}\".format(R)\n",
        "  Result_nlgn.append(R)\n",
        "print(Result_nlgn)"
      ],
      "execution_count": null,
      "outputs": [
        {
          "output_type": "stream",
          "text": [
            "220\n",
            "220\n",
            "7930\n",
            "7930\n"
          ],
          "name": "stdout"
        },
        {
          "output_type": "error",
          "ename": "KeyboardInterrupt",
          "evalue": "ignored",
          "traceback": [
            "\u001b[0;31m---------------------------------------------------------------------------\u001b[0m",
            "\u001b[0;31mKeyboardInterrupt\u001b[0m                         Traceback (most recent call last)",
            "\u001b[0;32m<ipython-input-99-395dcf37a38c>\u001b[0m in \u001b[0;36m<module>\u001b[0;34m()\u001b[0m\n\u001b[1;32m      3\u001b[0m \u001b[0;32mfor\u001b[0m \u001b[0mi\u001b[0m \u001b[0;32min\u001b[0m \u001b[0mTime\u001b[0m\u001b[0;34m:\u001b[0m\u001b[0;34m\u001b[0m\u001b[0;34m\u001b[0m\u001b[0m\n\u001b[1;32m      4\u001b[0m   \u001b[0mR\u001b[0m \u001b[0;34m=\u001b[0m \u001b[0;34m(\u001b[0m\u001b[0mn\u001b[0m\u001b[0;34m**\u001b[0m\u001b[0mn\u001b[0m\u001b[0;34m)\u001b[0m\u001b[0;34m**\u001b[0m\u001b[0mi\u001b[0m\u001b[0;34m\u001b[0m\u001b[0;34m\u001b[0m\u001b[0m\n\u001b[0;32m----> 5\u001b[0;31m   \u001b[0mR\u001b[0m \u001b[0;34m=\u001b[0m \u001b[0mFindX\u001b[0m\u001b[0;34m(\u001b[0m\u001b[0mR\u001b[0m\u001b[0;34m)\u001b[0m\u001b[0;34m\u001b[0m\u001b[0;34m\u001b[0m\u001b[0m\n\u001b[0m\u001b[1;32m      6\u001b[0m   \u001b[0mR\u001b[0m \u001b[0;34m=\u001b[0m \u001b[0mRoundUp\u001b[0m\u001b[0;34m(\u001b[0m\u001b[0mR\u001b[0m\u001b[0;34m)\u001b[0m\u001b[0;34m\u001b[0m\u001b[0;34m\u001b[0m\u001b[0m\n\u001b[1;32m      7\u001b[0m   \u001b[0;32mif\u001b[0m\u001b[0;34m(\u001b[0m\u001b[0mR\u001b[0m \u001b[0;34m>\u001b[0m \u001b[0;36m999999\u001b[0m\u001b[0;34m)\u001b[0m\u001b[0;34m:\u001b[0m\u001b[0;34m\u001b[0m\u001b[0;34m\u001b[0m\u001b[0m\n",
            "\u001b[0;32m<ipython-input-97-8731c68bfb78>\u001b[0m in \u001b[0;36mFindX\u001b[0;34m(n)\u001b[0m\n\u001b[1;32m      2\u001b[0m   \u001b[0mi\u001b[0m \u001b[0;34m=\u001b[0m \u001b[0;36m1\u001b[0m\u001b[0;34m\u001b[0m\u001b[0;34m\u001b[0m\u001b[0m\n\u001b[1;32m      3\u001b[0m   \u001b[0;32mwhile\u001b[0m\u001b[0;34m(\u001b[0m\u001b[0;32mTrue\u001b[0m\u001b[0;34m)\u001b[0m\u001b[0;34m:\u001b[0m\u001b[0;34m\u001b[0m\u001b[0;34m\u001b[0m\u001b[0m\n\u001b[0;32m----> 4\u001b[0;31m     \u001b[0;32mif\u001b[0m\u001b[0;34m(\u001b[0m\u001b[0mi\u001b[0m\u001b[0;34m**\u001b[0m\u001b[0mi\u001b[0m \u001b[0;34m>=\u001b[0m \u001b[0mn\u001b[0m\u001b[0;34m)\u001b[0m\u001b[0;34m:\u001b[0m\u001b[0;34m\u001b[0m\u001b[0;34m\u001b[0m\u001b[0m\n\u001b[0m\u001b[1;32m      5\u001b[0m       \u001b[0;32mreturn\u001b[0m \u001b[0mi\u001b[0m\u001b[0;34m\u001b[0m\u001b[0;34m\u001b[0m\u001b[0m\n\u001b[1;32m      6\u001b[0m     \u001b[0mi\u001b[0m \u001b[0;34m+=\u001b[0m \u001b[0;36m1\u001b[0m\u001b[0;34m\u001b[0m\u001b[0;34m\u001b[0m\u001b[0m\n",
            "\u001b[0;31mKeyboardInterrupt\u001b[0m: "
          ]
        }
      ]
    },
    {
      "cell_type": "markdown",
      "metadata": {
        "id": "usiV77CU7TvG",
        "colab_type": "text"
      },
      "source": [
        "#**OKE n^2**"
      ]
    },
    {
      "cell_type": "markdown",
      "metadata": {
        "id": "J5qDlk0kGPw_",
        "colab_type": "text"
      },
      "source": [
        "\n",
        "\n",
        "##n^2\n",
        "\n",
        "lg(a) = n^2\n",
        "##**n = sqrt(lg(a))**\n",
        "\n",
        "n^2 = 1\n",
        "R^2 = Time\n",
        "\n",
        "##**R = sqrt(Time.n^2)**\n",
        "\n"
      ]
    },
    {
      "cell_type": "code",
      "metadata": {
        "id": "TgYiQ6SOU4ny",
        "colab_type": "code",
        "colab": {
          "base_uri": "https://localhost:8080/",
          "height": 50
        },
        "outputId": "9fa8dbc4-027d-44a2-8630-74f9b838bb2d"
      },
      "source": [
        "n = math.sqrt(math.log(a,2))\n",
        "n = RoundUp(n)"
      ],
      "execution_count": null,
      "outputs": [
        {
          "output_type": "stream",
          "text": [
            "4.921299476720099\n",
            "5\n"
          ],
          "name": "stdout"
        }
      ]
    },
    {
      "cell_type": "code",
      "metadata": {
        "id": "voq7gUECVGHj",
        "colab_type": "code",
        "colab": {
          "base_uri": "https://localhost:8080/",
          "height": 235
        },
        "outputId": "085ae78b-b45f-435a-c6da-cf8e0b4a26e4"
      },
      "source": [
        "Result_n2 = []\n",
        "Result_n2.append(n)\n",
        "for i in Time:\n",
        "  R = math.sqrt(i*(n**2))\n",
        "  R = RoundUp(R)\n",
        "  if(R > 999999):\n",
        "    R = \"{:.5E}\".format(R)\n",
        "  Result_n2.append(R)\n",
        "print(Result_n2)"
      ],
      "execution_count": null,
      "outputs": [
        {
          "output_type": "stream",
          "text": [
            "38.72983346207417\n",
            "39\n",
            "300.0\n",
            "300\n",
            "1469.6938456699068\n",
            "1470\n",
            "8049.844718999243\n",
            "8050\n",
            "28078.461496314216\n",
            "28079\n",
            "280784.61496314214\n",
            "280785\n",
            "[5, 39, 300, 1470, 8050, 28079, 280785]\n"
          ],
          "name": "stdout"
        }
      ]
    },
    {
      "cell_type": "markdown",
      "metadata": {
        "id": "CGyLInRx7JaQ",
        "colab_type": "text"
      },
      "source": [
        "#**SAI n^3**"
      ]
    },
    {
      "cell_type": "markdown",
      "metadata": {
        "id": "ZeCKX_t5VnnT",
        "colab_type": "text"
      },
      "source": [
        "\n",
        "\n",
        "##n^3\n",
        "\n",
        "lg(a) = n^3\n",
        "##**n = lg(a)^(1/3)**\n",
        "\n",
        "n^3 = 1\n",
        "R^3 = Time\n",
        "\n",
        "##**R = (Time.n^3)^(1/3)**"
      ]
    },
    {
      "cell_type": "code",
      "metadata": {
        "id": "5lQBlgE0Vg7r",
        "colab_type": "code",
        "colab": {
          "base_uri": "https://localhost:8080/",
          "height": 50
        },
        "outputId": "55418d99-d7b2-4395-ccc6-572125910978"
      },
      "source": [
        "n = math.log(a,2)**(1/3)\n",
        "n = RoundUp(n)"
      ],
      "execution_count": null,
      "outputs": [
        {
          "output_type": "stream",
          "text": [
            "2.893253781086408\n",
            "3\n"
          ],
          "name": "stdout"
        }
      ]
    },
    {
      "cell_type": "code",
      "metadata": {
        "id": "HGZoFAkLWqiq",
        "colab_type": "code",
        "colab": {
          "base_uri": "https://localhost:8080/",
          "height": 235
        },
        "outputId": "7115c291-1fa1-41cb-b6f2-684d3f301759"
      },
      "source": [
        "Result_n3 = []\n",
        "Result_n3.append(n)\n",
        "for i in Time:\n",
        "  R = (i*(n**3))**(1/3)\n",
        "  R = RoundUp(R)\n",
        "  if(R > 999999):\n",
        "    R = \"{:.5E}\".format(R)\n",
        "  Result_n3.append(R)\n",
        "print(Result_n3)"
      ],
      "execution_count": null,
      "outputs": [
        {
          "output_type": "stream",
          "text": [
            "11.744602923506589\n",
            "12\n",
            "45.97856594361318\n",
            "46\n",
            "132.62513395105387\n",
            "133\n",
            "412.09712731919933\n",
            "413\n",
            "947.8147370708583\n",
            "948\n",
            "4399.366299921728\n",
            "4400\n",
            "[3, 12, 46, 133, 413, 948, 4400]\n"
          ],
          "name": "stdout"
        }
      ]
    },
    {
      "cell_type": "markdown",
      "metadata": {
        "id": "eWhXQl4VXAu4",
        "colab_type": "text"
      },
      "source": [
        "#**OKE 2^n**\n",
        "\n"
      ]
    },
    {
      "cell_type": "markdown",
      "metadata": {
        "id": "EZYKqF4z7B_8",
        "colab_type": "text"
      },
      "source": [
        "\n",
        "##2^n\n",
        "\n",
        "lg(a) = 2^n\n",
        "##**n = lg(lg(a))**\n",
        "\n",
        "2^n = 1 \n",
        "2^R = Time\n",
        "\n",
        "##**R = lg(Time*(2^n))**"
      ]
    },
    {
      "cell_type": "code",
      "metadata": {
        "id": "tbMRKFccW1Xt",
        "colab_type": "code",
        "colab": {
          "base_uri": "https://localhost:8080/",
          "height": 50
        },
        "outputId": "698321ee-2f49-4f01-fc13-769d13582571"
      },
      "source": [
        "n = math.log(math.log(a,2),2)\n",
        "n = RoundUp(n)"
      ],
      "execution_count": null,
      "outputs": [
        {
          "output_type": "stream",
          "text": [
            "4.598078623439159\n",
            "5\n"
          ],
          "name": "stdout"
        }
      ]
    },
    {
      "cell_type": "code",
      "metadata": {
        "id": "afhF5YaVXhv8",
        "colab_type": "code",
        "colab": {
          "base_uri": "https://localhost:8080/",
          "height": 235
        },
        "outputId": "d7d62ad6-7d33-4ce8-f4ed-144f5f90f3bf"
      },
      "source": [
        "Result_2n = []\n",
        "Result_2n.append(n)\n",
        "for i in Time:\n",
        "  R = math.log((i*(2**n)),2)\n",
        "  R = RoundUp(R)\n",
        "  if(R > 999999):\n",
        "    R = \"{:.5E}\".format(R)\n",
        "  Result_2n.append(R)\n",
        "print(Result_2n)"
      ],
      "execution_count": null,
      "outputs": [
        {
          "output_type": "stream",
          "text": [
            "10.90689059560852\n",
            "11\n",
            "16.81378119121704\n",
            "17\n",
            "21.398743691938193\n",
            "22\n",
            "26.30563428754671\n",
            "27\n",
            "29.910496345705575\n",
            "30\n",
            "36.5543525354803\n",
            "37\n",
            "[5, 11, 17, 22, 27, 30, 37]\n"
          ],
          "name": "stdout"
        }
      ]
    },
    {
      "cell_type": "code",
      "metadata": {
        "id": "3s6e3H1VXvkC",
        "colab_type": "code",
        "colab": {}
      },
      "source": [
        ""
      ],
      "execution_count": null,
      "outputs": []
    },
    {
      "cell_type": "markdown",
      "metadata": {
        "id": "NVZ72d5kE2OW",
        "colab_type": "text"
      },
      "source": [
        "#**OKE n!**"
      ]
    },
    {
      "cell_type": "markdown",
      "metadata": {
        "id": "DGgHxpYpE5mn",
        "colab_type": "text"
      },
      "source": [
        "## n!\n",
        "\n",
        "##**n! = lg(a)**\n",
        "\n",
        "Find n?\n",
        "\n",
        "n! = 1 \n",
        "\n",
        "R! = Time\n",
        "\n",
        "##**R! = n!*Time**"
      ]
    },
    {
      "cell_type": "code",
      "metadata": {
        "id": "4di1rjAWFgpS",
        "colab_type": "code",
        "colab": {}
      },
      "source": [
        "def tinhgiaithua(n):\n",
        "    giai_thua = 1;\n",
        "    if (n == 0 or n == 1):\n",
        "        return giai_thua;\n",
        "    else:\n",
        "        for i in range(2, n + 1):\n",
        "            giai_thua = giai_thua * i;\n",
        "        return giai_thua;"
      ],
      "execution_count": 10,
      "outputs": []
    },
    {
      "cell_type": "code",
      "metadata": {
        "id": "9rhe4m0KE0Rw",
        "colab_type": "code",
        "colab": {}
      },
      "source": [
        "def FindGiaiThua(n):\n",
        "  i = 0\n",
        "  while(1):\n",
        "    gt = tinhgiaithua(i)\n",
        "    if(gt >= n):\n",
        "      return i\n",
        "    i += 1"
      ],
      "execution_count": 11,
      "outputs": []
    },
    {
      "cell_type": "code",
      "metadata": {
        "id": "1d-GlR7wFsgD",
        "colab_type": "code",
        "colab": {
          "base_uri": "https://localhost:8080/",
          "height": 34
        },
        "outputId": "3d806fdd-fa15-4b63-ab9c-d580677a9105"
      },
      "source": [
        "n = FindGiaiThua(math.log(a,2))\n",
        "print(n)"
      ],
      "execution_count": 18,
      "outputs": [
        {
          "output_type": "stream",
          "text": [
            "5\n"
          ],
          "name": "stdout"
        }
      ]
    },
    {
      "cell_type": "code",
      "metadata": {
        "id": "EFldnt_8GB9U",
        "colab_type": "code",
        "colab": {
          "base_uri": "https://localhost:8080/",
          "height": 34
        },
        "outputId": "930ad310-82da-432b-f81d-e42e5698d9df"
      },
      "source": [
        "Result_gt = []\n",
        "Result_gt.append(n)\n",
        "n_gt = tinhgiaithua(n)\n",
        "for i in Time:\n",
        "  R = n_gt*i\n",
        "  R = FindGiaiThua(R)\n",
        "  if(R > 999999):\n",
        "    R = \"{:.5E}\".format(R)\n",
        "  Result_gt.append(R)\n",
        "print(Result_gt)"
      ],
      "execution_count": 19,
      "outputs": [
        {
          "output_type": "stream",
          "text": [
            "[5, 8, 10, 11, 12, 13, 15]\n"
          ],
          "name": "stdout"
        }
      ]
    },
    {
      "cell_type": "code",
      "metadata": {
        "id": "ZlMeD9ShGcAr",
        "colab_type": "code",
        "colab": {}
      },
      "source": [
        ""
      ],
      "execution_count": null,
      "outputs": []
    }
  ]
}